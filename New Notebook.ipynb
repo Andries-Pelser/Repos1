{
    "cells": [
        {
            "cell_type": "markdown",
            "metadata": {},
            "source": "New Notebook Code"
        },
        {
            "cell_type": "code",
            "execution_count": 4,
            "metadata": {},
            "outputs": [
                {
                    "data": {
                        "text/html": "<div>\n<style scoped>\n    .dataframe tbody tr th:only-of-type {\n        vertical-align: middle;\n    }\n\n    .dataframe tbody tr th {\n        vertical-align: top;\n    }\n\n    .dataframe thead th {\n        text-align: right;\n    }\n</style>\n<table border=\"1\" class=\"dataframe\">\n  <thead>\n    <tr style=\"text-align: right;\">\n      <th></th>\n      <th>id</th>\n      <th>pos1</th>\n      <th>pos2</th>\n      <th>pos3</th>\n      <th>pos4</th>\n      <th>pos5</th>\n      <th>pos6</th>\n      <th>pos7</th>\n      <th>pos8</th>\n      <th>pos9</th>\n      <th>pos10</th>\n      <th>pos_input</th>\n      <th>pos_output</th>\n      <th>input</th>\n      <th>output</th>\n      <th>matched</th>\n      <th>created</th>\n    </tr>\n  </thead>\n  <tbody>\n    <tr>\n      <th>0</th>\n      <td>48bad1dd-acdf-4e11-8ee1-f061206eb7ab</td>\n      <td>65</td>\n      <td>71</td>\n      <td>56</td>\n      <td>56</td>\n      <td>76</td>\n      <td>78</td>\n      <td>86</td>\n      <td>0</td>\n      <td>0</td>\n      <td>0</td>\n      <td>65715656767886</td>\n      <td>65715656767886</td>\n      <td>AG88LNV</td>\n      <td>AG88LNV</td>\n      <td>1</td>\n      <td>2019-10-18 11:02:59</td>\n    </tr>\n    <tr>\n      <th>1</th>\n      <td>b61414bc-fe20-4292-bf9b-d65bd13420f7</td>\n      <td>65</td>\n      <td>71</td>\n      <td>56</td>\n      <td>56</td>\n      <td>76</td>\n      <td>78</td>\n      <td>86</td>\n      <td>0</td>\n      <td>0</td>\n      <td>0</td>\n      <td>65715656767886</td>\n      <td>65715656767886</td>\n      <td>AG88LNV</td>\n      <td>AG88LNV</td>\n      <td>1</td>\n      <td>2019-10-18 11:02:59</td>\n    </tr>\n    <tr>\n      <th>2</th>\n      <td>2415cd44-781c-4c7f-bd01-4e529f091d2b</td>\n      <td>65</td>\n      <td>71</td>\n      <td>56</td>\n      <td>66</td>\n      <td>76</td>\n      <td>78</td>\n      <td>86</td>\n      <td>0</td>\n      <td>0</td>\n      <td>0</td>\n      <td>65715666767886</td>\n      <td>65715656767886</td>\n      <td>AG8BLNV</td>\n      <td>AG88LNV</td>\n      <td>1</td>\n      <td>2019-10-18 11:02:59</td>\n    </tr>\n    <tr>\n      <th>3</th>\n      <td>42d100f4-f115-40bb-be94-8438e1223f69</td>\n      <td>71</td>\n      <td>56</td>\n      <td>56</td>\n      <td>76</td>\n      <td>78</td>\n      <td>86</td>\n      <td>0</td>\n      <td>0</td>\n      <td>0</td>\n      <td>0</td>\n      <td>715656767886</td>\n      <td>65715656767886</td>\n      <td>G88LNV</td>\n      <td>AG88LNV</td>\n      <td>1</td>\n      <td>2019-10-18 11:02:59</td>\n    </tr>\n    <tr>\n      <th>4</th>\n      <td>2bc47984-7e92-4779-92ec-26c8d3267521</td>\n      <td>65</td>\n      <td>71</td>\n      <td>56</td>\n      <td>56</td>\n      <td>76</td>\n      <td>78</td>\n      <td>86</td>\n      <td>0</td>\n      <td>0</td>\n      <td>0</td>\n      <td>65715656767886</td>\n      <td>65715656767886</td>\n      <td>AG88LNV</td>\n      <td>AG88LNV</td>\n      <td>1</td>\n      <td>2019-10-18 11:02:59</td>\n    </tr>\n  </tbody>\n</table>\n</div>",
                        "text/plain": "                                     id  pos1  pos2  pos3  pos4  pos5  pos6  \\\n0  48bad1dd-acdf-4e11-8ee1-f061206eb7ab    65    71    56    56    76    78   \n1  b61414bc-fe20-4292-bf9b-d65bd13420f7    65    71    56    56    76    78   \n2  2415cd44-781c-4c7f-bd01-4e529f091d2b    65    71    56    66    76    78   \n3  42d100f4-f115-40bb-be94-8438e1223f69    71    56    56    76    78    86   \n4  2bc47984-7e92-4779-92ec-26c8d3267521    65    71    56    56    76    78   \n\n   pos7  pos8  pos9  pos10       pos_input      pos_output    input   output  \\\n0    86     0     0      0  65715656767886  65715656767886  AG88LNV  AG88LNV   \n1    86     0     0      0  65715656767886  65715656767886  AG88LNV  AG88LNV   \n2    86     0     0      0  65715666767886  65715656767886  AG8BLNV  AG88LNV   \n3     0     0     0      0    715656767886  65715656767886   G88LNV  AG88LNV   \n4    86     0     0      0  65715656767886  65715656767886  AG88LNV  AG88LNV   \n\n   matched              created  \n0        1  2019-10-18 11:02:59  \n1        1  2019-10-18 11:02:59  \n2        1  2019-10-18 11:02:59  \n3        1  2019-10-18 11:02:59  \n4        1  2019-10-18 11:02:59  "
                    },
                    "execution_count": 4,
                    "metadata": {},
                    "output_type": "execute_result"
                }
            ],
            "source": "# The code was removed by Watson Studio for sharing."
        },
        {
            "cell_type": "code",
            "execution_count": null,
            "metadata": {},
            "outputs": [],
            "source": ""
        }
    ],
    "metadata": {
        "kernelspec": {
            "display_name": "Python 3.8",
            "language": "python",
            "name": "python3"
        },
        "language_info": {
            "codemirror_mode": {
                "name": "ipython",
                "version": 3
            },
            "file_extension": ".py",
            "mimetype": "text/x-python",
            "name": "python",
            "nbconvert_exporter": "python",
            "pygments_lexer": "ipython3",
            "version": "3.8.11"
        }
    },
    "nbformat": 4,
    "nbformat_minor": 1
}